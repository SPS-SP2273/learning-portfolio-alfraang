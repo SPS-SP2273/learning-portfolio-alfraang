{
 "cells": [
  {
   "cell_type": "markdown",
   "id": "123456",
   "metadata": {},
   "source": [
    "<div style=\"text-align:left;font-size:2em\"><span style=\"font-weight:bolder;font-size:1.25em\">SP2273 | Learning Portfolio</span><br><br><span style=\"font-weight:bold;color:darkred\">Using Jupyter (Good)</span></div>"
   ]
  },
  {
   "cell_type": "markdown",
   "id": "87410faf",
   "metadata": {},
   "source": [
    "## 1 Some tips and tricks"
   ]
  },
  {
   "cell_type": "markdown",
   "id": "c4e88dd8",
   "metadata": {},
   "source": [
    "### 1.1 Keyboard Shortcuts"
   ]
  },
  {
   "cell_type": "code",
   "execution_count": null,
   "id": "09848100",
   "metadata": {},
   "outputs": [],
   "source": [
    "\n",
    "# Your code here\n"
   ]
  },
  {
   "cell_type": "markdown",
   "id": "0d3321c3",
   "metadata": {},
   "source": [
    "### 1.2 Shell commands"
   ]
  },
  {
   "cell_type": "code",
   "execution_count": null,
   "id": "f94d6873",
   "metadata": {},
   "outputs": [],
   "source": [
    "\n",
    "# Your code here\n"
   ]
  },
  {
   "cell_type": "markdown",
   "id": "b8780fc2",
   "metadata": {},
   "source": [
    "## 2 Jupyter Extensions"
   ]
  },
  {
   "cell_type": "markdown",
   "id": "d4703d42",
   "metadata": {},
   "source": [
    "### 2.1 Installing the extensions"
   ]
  },
  {
   "cell_type": "code",
   "execution_count": null,
   "id": "fceac77a",
   "metadata": {},
   "outputs": [],
   "source": [
    "\n",
    "# Your code here\n"
   ]
  },
  {
   "cell_type": "markdown",
   "id": "1887274d",
   "metadata": {},
   "source": [
    "### 2.2 Enabling the extensions"
   ]
  },
  {
   "cell_type": "code",
   "execution_count": null,
   "id": "d4d03787",
   "metadata": {},
   "outputs": [],
   "source": [
    "\n",
    "# Your code here\n"
   ]
  },
  {
   "cell_type": "markdown",
   "id": "66e95692",
   "metadata": {},
   "source": [
    "## 3 Shell Magic"
   ]
  },
  {
   "cell_type": "markdown",
   "id": "38e0bfbb",
   "metadata": {},
   "source": [
    "## 4 The Kernel"
   ]
  },
  {
   "cell_type": "markdown",
   "id": "aedf357f",
   "metadata": {},
   "source": [
    "## Exercise 1 :  A new shortcut"
   ]
  },
  {
   "cell_type": "code",
   "execution_count": null,
   "id": "f2e00602",
   "metadata": {},
   "outputs": [],
   "source": [
    "\n",
    "\n",
    "\n",
    "# Your solution here\n",
    "\n",
    "\n"
   ]
  }
 ],
 "metadata": {
  "kernelspec": {
   "display_name": "Python 3 (ipykernel)",
   "language": "python",
   "name": "python3"
  },
  "language_info": {
   "codemirror_mode": {
    "name": "ipython",
    "version": 3
   },
   "file_extension": ".py",
   "mimetype": "text/x-python",
   "name": "python",
   "nbconvert_exporter": "python",
   "pygments_lexer": "ipython3",
   "version": "3.10.8"
  },
  "toc": {
   "base_numbering": 1,
   "nav_menu": {},
   "number_sections": true,
   "sideBar": true,
   "skip_h1_title": false,
   "title_cell": "Table of Contents",
   "title_sidebar": "Contents",
   "toc_cell": false,
   "toc_position": {},
   "toc_section_display": true,
   "toc_window_display": false
  },
  "vscode": {
   "interpreter": {
    "hash": "31f2aee4e71d21fbe5cf8b01ff0e069b9275f58929596ceb00d14d90e3e16cd6"
   }
  }
 },
 "nbformat": 4,
 "nbformat_minor": 5
}
