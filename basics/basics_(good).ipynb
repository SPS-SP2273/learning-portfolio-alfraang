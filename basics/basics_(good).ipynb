{
 "cells": [
  {
   "cell_type": "markdown",
   "id": "123456",
   "metadata": {},
   "source": [
    "<div style=\"text-align:left;font-size:2em\"><span style=\"font-weight:bolder;font-size:1.25em\">SP2273 | Learning Portfolio</span><br><br><span style=\"font-weight:bold;color:darkred\">Basics (Good)</span></div>"
   ]
  },
  {
   "cell_type": "markdown",
   "id": "2d4ab054",
   "metadata": {},
   "source": [
    "## 1 More Python Basics"
   ]
  },
  {
   "cell_type": "markdown",
   "id": "25fd9898",
   "metadata": {},
   "source": [
    "### 1.1 Computers read = from Right to Left!"
   ]
  },
  {
   "cell_type": "code",
   "execution_count": 5,
   "id": "e4d74dc5",
   "metadata": {},
   "outputs": [
    {
     "name": "stdout",
     "output_type": "stream",
     "text": [
      "25\n",
      "45\n"
     ]
    }
   ],
   "source": [
    "x = 20\n",
    "y = x + 5\n",
    "print(y)\n",
    "\n",
    "z = x + y\n",
    "print(z)\n"
   ]
  },
  {
   "cell_type": "markdown",
   "id": "e1b6b548",
   "metadata": {},
   "source": [
    "### 1.2 Shorter and cleaner"
   ]
  },
  {
   "cell_type": "code",
   "execution_count": 10,
   "id": "ae682de4",
   "metadata": {},
   "outputs": [
    {
     "data": {
      "text/plain": [
       "33"
      ]
     },
     "execution_count": 10,
     "metadata": {},
     "output_type": "execute_result"
    }
   ],
   "source": [
    "y = 30\n",
    "y += 3\n",
    "y"
   ]
  },
  {
   "cell_type": "code",
   "execution_count": 12,
   "id": "584084df",
   "metadata": {},
   "outputs": [
    {
     "data": {
      "text/plain": [
       "1"
      ]
     },
     "execution_count": 12,
     "metadata": {},
     "output_type": "execute_result"
    }
   ],
   "source": [
    "z = 2\n",
    "z -= 1\n",
    "z"
   ]
  },
  {
   "cell_type": "code",
   "execution_count": 11,
   "id": "6c9a85bc",
   "metadata": {},
   "outputs": [
    {
     "data": {
      "text/plain": [
       "20.0"
      ]
     },
     "execution_count": 11,
     "metadata": {},
     "output_type": "execute_result"
    }
   ],
   "source": [
    "x = 40\n",
    "x /= 2    # Same as y = y/2\n",
    "x"
   ]
  },
  {
   "cell_type": "code",
   "execution_count": 13,
   "id": "1b9f85e5",
   "metadata": {},
   "outputs": [
    {
     "data": {
      "text/plain": [
       "10"
      ]
     },
     "execution_count": 13,
     "metadata": {},
     "output_type": "execute_result"
    }
   ],
   "source": [
    "t = 2\n",
    "t *= 5\n",
    "t"
   ]
  },
  {
   "cell_type": "markdown",
   "id": "bd69fe05",
   "metadata": {},
   "source": [
    "### 1.3 Asking questions"
   ]
  },
  {
   "cell_type": "code",
   "execution_count": 19,
   "id": "2141399d",
   "metadata": {},
   "outputs": [
    {
     "data": {
      "text/plain": [
       "False"
      ]
     },
     "execution_count": 19,
     "metadata": {},
     "output_type": "execute_result"
    }
   ],
   "source": [
    "fruits = [\"apple\", \"banana\", \"pineapple\", \"jackfruit\"]\n",
    "vegetables = [\"celery\", \"potato\", \"broccoli\", \"kale\"]\n",
    "\n",
    "\"apple\" in fruits\n",
    "\n",
    "\"peach\" in fruits\n",
    "\n",
    "(\"apple\" in fruits) and (\"celery\" in vegetables)\n",
    "\n",
    "(\"apple\" in fruits) or (\"celery\" in vegetables)\n",
    "\n",
    "'apples' > 'oranges'"
   ]
  },
  {
   "cell_type": "markdown",
   "id": "758d7f41",
   "metadata": {},
   "source": [
    "### 1.4 There is more to if"
   ]
  },
  {
   "cell_type": "code",
   "execution_count": 24,
   "id": "b3cb4a02",
   "metadata": {},
   "outputs": [
    {
     "name": "stdout",
     "output_type": "stream",
     "text": [
      "Hello Sidekick | Robin!\n"
     ]
    }
   ],
   "source": [
    "if name == 'Batman':\n",
    "    print('Hello Hero | Batman!')\n",
    "elif name == 'Robin':\n",
    "    print('Hello Sidekick | Robin!')\n",
    "else:\n",
    "    print('Hello World!')\n",
    "    \n",
    "name = 'Robin'"
   ]
  },
  {
   "cell_type": "markdown",
   "id": "b3d95c37",
   "metadata": {},
   "source": [
    "### 1.5 Python stores information in different formats or types."
   ]
  },
  {
   "cell_type": "code",
   "execution_count": 34,
   "id": "0407bd64",
   "metadata": {},
   "outputs": [
    {
     "name": "stdout",
     "output_type": "stream",
     "text": [
      "1\n",
      "1 <class 'int'>\n",
      "1.234 <class 'str'>\n",
      "1.234 <class 'float'>\n",
      "(1.234+0j) <class 'complex'>\n"
     ]
    }
   ],
   "source": [
    "x = int(1.234) #drop decimal place\n",
    "print(x)\n",
    "print(x, type(x))\n",
    "\n",
    "y = str(1.234) #as an english word\n",
    "print(y, type(y))\n",
    "\n",
    "z = float(1.234) #as a decimal number\n",
    "print(z, type(z))\n",
    "\n",
    "a = complex(1.234) #as a complex number, include imaginary part\n",
    "print(a, type(a))"
   ]
  },
  {
   "cell_type": "code",
   "execution_count": 37,
   "id": "090a72e7",
   "metadata": {},
   "outputs": [
    {
     "name": "stdout",
     "output_type": "stream",
     "text": [
      "1.234 <class 'str'>\n",
      "1.234 <class 'float'>\n"
     ]
    }
   ],
   "source": [
    "x = '1.234'\n",
    "print(x, type(x))\n",
    "\n",
    "x = float(x)\n",
    "print(x, type(x))\n",
    "\n",
    "#typecasting (cast x into the type float)"
   ]
  },
  {
   "cell_type": "markdown",
   "id": "95479aa9",
   "metadata": {},
   "source": [
    "### 1.6 Combining English and variables"
   ]
  },
  {
   "cell_type": "code",
   "execution_count": 43,
   "id": "015b65a0",
   "metadata": {},
   "outputs": [
    {
     "name": "stdout",
     "output_type": "stream",
     "text": [
      "Hello Batman!\n",
      "Hello BATMAN!\n",
      "The value of 10 squared is 100!\n"
     ]
    }
   ],
   "source": [
    "name = \"Batman\"\n",
    "\n",
    "print(f\"Hello {name}!\")\n",
    "\n",
    "print(f\"Hello {name.upper()}!\")\n",
    "\n",
    "x = 10\n",
    "print(f\"The value of {x} squared is {x**2}!\")\n"
   ]
  },
  {
   "cell_type": "code",
   "execution_count": 45,
   "id": "32165ab6",
   "metadata": {},
   "outputs": [
    {
     "name": "stdout",
     "output_type": "stream",
     "text": [
      "Bruce Wayne is Batman.\n",
      "        Bruce Wayne is Batman.\n",
      "    Bruce Wayne is Batman.    \n",
      "Bruce Wayne is Batman.        \n"
     ]
    }
   ],
   "source": [
    "text = 'Bruce Wayne is Batman.'\n",
    "print(f'{text}')\n",
    "\n",
    "print(f'{text:>30}')      # A block of 30 characters; aligned right\n",
    "\n",
    "print(f'{text:^30}')      # A block of 30 characters; aligned centre\n",
    "\n",
    "print(f'{text:<30}')      # A block of 30 characters; aligned left"
   ]
  },
  {
   "cell_type": "code",
   "execution_count": 48,
   "id": "5300fdc6",
   "metadata": {},
   "outputs": [
    {
     "name": "stdout",
     "output_type": "stream",
     "text": [
      "The cube of pi to 6 decimal places is 31.006277\n",
      "The cube of pi to 6 decimal places is 3.100628e+01\n"
     ]
    }
   ],
   "source": [
    "print(f'The cube of pi to 6 decimal places is {np.pi**3:.6f}')\n",
    "# f - decimal notation\n",
    "\n",
    "print(f'The cube of pi to 6 decimal places is {np.pi**3:.6e}')\n",
    "# e _ scientific notation"
   ]
  },
  {
   "cell_type": "markdown",
   "id": "fb7ed468",
   "metadata": {},
   "source": [
    "### 1.7 Python can be a prima-donna."
   ]
  },
  {
   "cell_type": "code",
   "execution_count": 50,
   "id": "c54a04c6",
   "metadata": {},
   "outputs": [
    {
     "ename": "NameError",
     "evalue": "name 'Print' is not defined",
     "output_type": "error",
     "traceback": [
      "\u001b[0;31m---------------------------------------------------------------------------\u001b[0m",
      "\u001b[0;31mNameError\u001b[0m                                 Traceback (most recent call last)",
      "Cell \u001b[0;32mIn[50], line 1\u001b[0m\n\u001b[0;32m----> 1\u001b[0m \u001b[43mPrint\u001b[49m () \u001b[38;5;66;03m#scroll to the end to see the real problem\u001b[39;00m\n",
      "\u001b[0;31mNameError\u001b[0m: name 'Print' is not defined"
     ]
    }
   ],
   "source": [
    "Print () #scroll to the end to see the real problem"
   ]
  },
  {
   "cell_type": "markdown",
   "id": "4b95f7e1",
   "metadata": {},
   "source": [
    "## 2 Best Practices for Scientific Computing"
   ]
  },
  {
   "cell_type": "markdown",
   "id": "9b4aaa47",
   "metadata": {},
   "source": [
    "### 2.1 Some tips"
   ]
  },
  {
   "cell_type": "code",
   "execution_count": null,
   "id": "7b74e98e",
   "metadata": {},
   "outputs": [],
   "source": [
    "\n",
    "# Your code here\n"
   ]
  },
  {
   "cell_type": "markdown",
   "id": "c73e0f1f",
   "metadata": {},
   "source": [
    "### 2.2 Getting help."
   ]
  },
  {
   "cell_type": "code",
   "execution_count": 51,
   "id": "54519e06",
   "metadata": {},
   "outputs": [
    {
     "name": "stdout",
     "output_type": "stream",
     "text": [
      "Help on built-in function print in module builtins:\n",
      "\n",
      "print(...)\n",
      "    print(value, ..., sep=' ', end='\\n', file=sys.stdout, flush=False)\n",
      "    \n",
      "    Prints the values to a stream, or to sys.stdout by default.\n",
      "    Optional keyword arguments:\n",
      "    file:  a file-like object (stream); defaults to the current sys.stdout.\n",
      "    sep:   string inserted between values, default a space.\n",
      "    end:   string appended after the last value, default a newline.\n",
      "    flush: whether to forcibly flush the stream.\n",
      "\n"
     ]
    }
   ],
   "source": [
    "help(print)\n"
   ]
  },
  {
   "cell_type": "markdown",
   "id": "cf5a48ad",
   "metadata": {},
   "source": [
    "## Exercise 1 :  Bias for some heroes"
   ]
  },
  {
   "cell_type": "code",
   "execution_count": 108,
   "id": "0768a36e",
   "metadata": {},
   "outputs": [
    {
     "name": "stdout",
     "output_type": "stream",
     "text": [
      "Hello HI\n"
     ]
    }
   ],
   "source": [
    "if name == 'Batman':\n",
    "    print ('hello BATMAN')\n",
    "    \n",
    "elif name == 'Black Widow':\n",
    "    print ('hello BLACK WIDOW')\n",
    "    \n",
    "else:\n",
    "    print (f\"Hello {name.upper()}\")\n",
    "\n",
    "name = 'hi'"
   ]
  },
  {
   "cell_type": "code",
   "execution_count": 124,
   "id": "8964c1f2",
   "metadata": {},
   "outputs": [
    {
     "name": "stdout",
     "output_type": "stream",
     "text": [
      "Hello HELLO\n"
     ]
    }
   ],
   "source": [
    "if name == 'Batman' or 'Black Widow':\n",
    "    print (f\"Hello {name.upper()}\")\n",
    "    \n",
    "else: \n",
    "    print (f\"Hello {name.upper()}\")\n",
    "    \n",
    "name = 'Black Widow'\n",
    "\n",
    "name = 'Batman'\n",
    "\n",
    "name = 'hello'\n",
    "        "
   ]
  },
  {
   "cell_type": "code",
   "execution_count": 57,
   "id": "8fd6c4ba",
   "metadata": {},
   "outputs": [
    {
     "name": "stdout",
     "output_type": "stream",
     "text": [
      "Hello Batman!\n",
      "Hello World!\n",
      "Hello World!\n"
     ]
    }
   ],
   "source": [
    "def hello(name):\n",
    "    if name == \"Batman\":\n",
    "        print(\"Hello Batman!\")\n",
    "    else:\n",
    "        print(\"Hello World!\")\n",
    "        \n",
    "hello(\"Batman\")\n",
    "\n",
    "hello(\"Black Widow\")\n",
    "\n",
    "hello (\"Aqua Man\")\n",
    "\n",
    "#function works as intended"
   ]
  },
  {
   "cell_type": "markdown",
   "id": "23b582b7",
   "metadata": {},
   "source": [
    "## Exercise 2 :  Bias for some heroes, continues"
   ]
  },
  {
   "cell_type": "code",
   "execution_count": 105,
   "id": "346165d5",
   "metadata": {},
   "outputs": [
    {
     "name": "stdout",
     "output_type": "stream",
     "text": [
      "Hello Batman!\n",
      "Hello Batman!\n",
      "Hello World!\n"
     ]
    }
   ],
   "source": [
    "def hello(name):\n",
    "    name = name.upper()\n",
    "    if name == \"BATMAN\":\n",
    "        print('Hello Batman!')\n",
    "    else:\n",
    "        print(\"Hello World!\")\n",
    "        \n",
    "hello('batman')\n",
    "\n",
    "hello('batMan')\n",
    "\n",
    "hello ('hi')"
   ]
  },
  {
   "cell_type": "markdown",
   "id": "88eae0d4",
   "metadata": {},
   "source": [
    "## Exercise 3 :  Look for help to replace"
   ]
  },
  {
   "cell_type": "code",
   "execution_count": 83,
   "id": "b8511fa6",
   "metadata": {},
   "outputs": [
    {
     "name": "stdout",
     "output_type": "stream",
     "text": [
      "The Joker lives in Gotham City.\n",
      "The Batman lives in Gotham City.\n"
     ]
    }
   ],
   "source": [
    "text = 'The Joker lives in Gotham City.'\n",
    "\n",
    "new_text = text.replace(\"Joker\", \"Batman\")\n",
    "\n",
    "print(text)\n",
    "\n",
    "print (new_text)"
   ]
  }
 ],
 "metadata": {
  "kernelspec": {
   "display_name": "Python 3 (ipykernel)",
   "language": "python",
   "name": "python3"
  },
  "language_info": {
   "codemirror_mode": {
    "name": "ipython",
    "version": 3
   },
   "file_extension": ".py",
   "mimetype": "text/x-python",
   "name": "python",
   "nbconvert_exporter": "python",
   "pygments_lexer": "ipython3",
   "version": "3.10.8"
  },
  "toc": {
   "base_numbering": 1,
   "nav_menu": {},
   "number_sections": true,
   "sideBar": true,
   "skip_h1_title": false,
   "title_cell": "Table of Contents",
   "title_sidebar": "Contents",
   "toc_cell": false,
   "toc_position": {},
   "toc_section_display": true,
   "toc_window_display": false
  },
  "varInspector": {
   "cols": {
    "lenName": 16,
    "lenType": 16,
    "lenVar": 40
   },
   "kernels_config": {
    "python": {
     "delete_cmd_postfix": "",
     "delete_cmd_prefix": "del ",
     "library": "var_list.py",
     "varRefreshCmd": "print(var_dic_list())"
    },
    "r": {
     "delete_cmd_postfix": ") ",
     "delete_cmd_prefix": "rm(",
     "library": "var_list.r",
     "varRefreshCmd": "cat(var_dic_list()) "
    }
   },
   "types_to_exclude": [
    "module",
    "function",
    "builtin_function_or_method",
    "instance",
    "_Feature"
   ],
   "window_display": false
  },
  "vscode": {
   "interpreter": {
    "hash": "31f2aee4e71d21fbe5cf8b01ff0e069b9275f58929596ceb00d14d90e3e16cd6"
   }
  }
 },
 "nbformat": 4,
 "nbformat_minor": 5
}
