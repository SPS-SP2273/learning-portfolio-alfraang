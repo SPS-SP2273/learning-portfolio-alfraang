{
 "cells": [
  {
   "cell_type": "markdown",
   "id": "123456",
   "metadata": {},
   "source": [
    "<div style=\"text-align:left;font-size:2em\"><span style=\"font-weight:bolder;font-size:1.25em\">SP2273 | Learning Portfolio</span><br><br><span style=\"font-weight:bold;color:darkred\">Storing Data (Need)</span></div>"
   ]
  },
  {
   "cell_type": "markdown",
   "id": "233e7489",
   "metadata": {},
   "source": [
    "## 1 Lists, Arrays & Dictionaries"
   ]
  },
  {
   "cell_type": "markdown",
   "id": "a95b29d3",
   "metadata": {},
   "source": [
    "### 1.1 Let’s compare"
   ]
  },
  {
   "cell_type": "code",
   "execution_count": 19,
   "id": "01acb840",
   "metadata": {},
   "outputs": [],
   "source": [
    "py_super_names = [\"Black Widow\", \"Iron Man\", \"Doctor Strange\"]\n",
    "py_real_names = [\"Natasha Romanoff\", \"Tony Stark\", \"Stephen Strange\"]"
   ]
  },
  {
   "cell_type": "markdown",
   "id": "9723c56e",
   "metadata": {},
   "source": [
    "### 1.2 Accessing data from a list (or array)"
   ]
  },
  {
   "cell_type": "code",
   "execution_count": 20,
   "id": "f96df806",
   "metadata": {},
   "outputs": [
    {
     "name": "stdout",
     "output_type": "stream",
     "text": [
      "Natasha Romanoff\n",
      "Doctor Strange\n",
      "Doctor Strange\n",
      "Natasha Romanoff\n"
     ]
    }
   ],
   "source": [
    "py_super_names = [\"Black Widow\", \"Iron Man\", \"Doctor Strange\"]\n",
    "py_real_names = [\"Natasha Romanoff\", \"Tony Stark\", \"Stephen Strange\"]\n",
    "\n",
    "print(py_real_names[0])\n",
    "print(py_super_names[2])\n",
    "\n",
    "print(py_super_names[-1])   # Reverse indexing\n",
    "print(py_real_names[-3])"
   ]
  },
  {
   "cell_type": "markdown",
   "id": "1d90b235",
   "metadata": {},
   "source": [
    "### 1.3 Accessing data from a dictionary"
   ]
  },
  {
   "cell_type": "code",
   "execution_count": 25,
   "id": "cba0f739",
   "metadata": {},
   "outputs": [
    {
     "name": "stdout",
     "output_type": "stream",
     "text": [
      "Black Widow\n",
      "Iron Man\n"
     ]
    },
    {
     "data": {
      "text/plain": [
       "dict_values(['Black Widow', 'Iron Man', 'Doctor Strange'])"
      ]
     },
     "execution_count": 25,
     "metadata": {},
     "output_type": "execute_result"
    }
   ],
   "source": [
    "superhero_info = {\"Natasha Romanoff\": \"Black Widow\",\n",
    "                  \"Tony Stark\": \"Iron Man\",\n",
    "                  \"Stephen Strange\": \"Doctor Strange\"\n",
    "                  }\n",
    "\n",
    "print(superhero_info[\"Natasha Romanoff\"])\n",
    "print(superhero_info[\"Tony Stark\"])\n",
    "\n",
    "superhero_info.keys()\n",
    "\n",
    "\n",
    "superhero_info.values()"
   ]
  },
  {
   "cell_type": "markdown",
   "id": "032e62b8",
   "metadata": {},
   "source": [
    "### 1.4 Higher dimensional lists"
   ]
  },
  {
   "cell_type": "code",
   "execution_count": null,
   "id": "718ca8cd",
   "metadata": {},
   "outputs": [],
   "source": [
    "py_superhero_info = [['Natasha Romanoff', 'Black Widow'],\n",
    "                     ['Tony Stark', 'Iron Man'],\n",
    "                     ['Stephen Strange', 'Doctor Strange']]\n"
   ]
  },
  {
   "cell_type": "markdown",
   "id": "7f5e2701",
   "metadata": {},
   "source": [
    "## 2 Lists vs. Arrays"
   ]
  },
  {
   "cell_type": "markdown",
   "id": "46ec866c",
   "metadata": {},
   "source": [
    "### 2.1 Size"
   ]
  },
  {
   "cell_type": "code",
   "execution_count": 31,
   "id": "51f71f82",
   "metadata": {},
   "outputs": [
    {
     "data": {
      "text/plain": [
       "(10, 2)"
      ]
     },
     "execution_count": 31,
     "metadata": {},
     "output_type": "execute_result"
    }
   ],
   "source": [
    "py_list_2d = [[1, \"A\"], [2, \"B\"], [3, \"C\"], [4, \"D\"],\n",
    "              [5, \"E\"], [6, \"F\"], [7, \"G\"], [8, \"H\"],\n",
    "              [9, \"I\"], [10, \"J\"]]\n",
    "\n",
    "np_array_2d = np.array(py_list_2d)      # Reusing the Python list \n",
    "                                        # to create a NEW\n",
    "                                        # NumPy array\n",
    "        \n",
    "len(py_list_2d)\n",
    "\n",
    "len(np_array_2d)\n",
    "\n",
    "np_array_2d.shape\n"
   ]
  },
  {
   "cell_type": "markdown",
   "id": "53012696",
   "metadata": {},
   "source": [
    "### 2.2 Arrays are fussy about type"
   ]
  },
  {
   "cell_type": "code",
   "execution_count": 32,
   "id": "ede1b6dd",
   "metadata": {},
   "outputs": [
    {
     "data": {
      "text/plain": [
       "array(['1', '1.5', 'A'], dtype='<U32')"
      ]
     },
     "execution_count": 32,
     "metadata": {},
     "output_type": "execute_result"
    }
   ],
   "source": [
    "py_list = [1, 1.5, 'A']\n",
    "np.array(py_list)"
   ]
  },
  {
   "cell_type": "markdown",
   "id": "1714c294",
   "metadata": {},
   "source": [
    "### 2.3 Adding a number"
   ]
  },
  {
   "cell_type": "code",
   "execution_count": 35,
   "id": "ab146d1e",
   "metadata": {},
   "outputs": [
    {
     "data": {
      "text/plain": [
       "array([11, 12, 13, 14, 15])"
      ]
     },
     "execution_count": 35,
     "metadata": {},
     "output_type": "execute_result"
    }
   ],
   "source": [
    "py_list = [1, 2, 3, 4, 5]\n",
    "np_array = np.array(py_list)         # Reusing the Python list\n",
    "                                     # to create a NEW\n",
    "                                     # NumPy array\n",
    "        \n",
    "np_array + 10 # - array\n",
    "#py_list + 10 wont work - list"
   ]
  },
  {
   "cell_type": "markdown",
   "id": "fc1494cb",
   "metadata": {},
   "source": [
    "### 2.4 Adding another list"
   ]
  },
  {
   "cell_type": "code",
   "execution_count": 38,
   "id": "6e60a5c7",
   "metadata": {},
   "outputs": [
    {
     "data": {
      "text/plain": [
       "[1, 2, 3, 4, 5, 10, 20, 30, 40, 50]"
      ]
     },
     "execution_count": 38,
     "metadata": {},
     "output_type": "execute_result"
    }
   ],
   "source": [
    "py_list_1 = [1, 2, 3, 4, 5]\n",
    "py_list_2 = [10, 20, 30, 40, 50]\n",
    "\n",
    "np_array_1 = np.array(py_list_1)\n",
    "np_array_2 = np.array(py_list_2)\n",
    "\n",
    "py_list_1 + py_list_2 # - lists"
   ]
  },
  {
   "cell_type": "code",
   "execution_count": 39,
   "id": "ad029d1e",
   "metadata": {},
   "outputs": [
    {
     "data": {
      "text/plain": [
       "array([11, 22, 33, 44, 55])"
      ]
     },
     "execution_count": 39,
     "metadata": {},
     "output_type": "execute_result"
    }
   ],
   "source": [
    "np_array_1 + np_array_2 # - arrays"
   ]
  },
  {
   "cell_type": "markdown",
   "id": "b1a69eda",
   "metadata": {},
   "source": [
    "### 2.5 Multiplying by a Number"
   ]
  },
  {
   "cell_type": "code",
   "execution_count": 40,
   "id": "211f7d49",
   "metadata": {},
   "outputs": [
    {
     "data": {
      "text/plain": [
       "[1, 2, 3, 4, 5, 1, 2, 3, 4, 5]"
      ]
     },
     "execution_count": 40,
     "metadata": {},
     "output_type": "execute_result"
    }
   ],
   "source": [
    "py_list = [1, 2, 3, 4, 5]\n",
    "np_array = np.array(py_list)         \n",
    "\n",
    "py_list*2\n",
    "# list copy twice\n"
   ]
  },
  {
   "cell_type": "code",
   "execution_count": 41,
   "id": "727bd876",
   "metadata": {},
   "outputs": [
    {
     "data": {
      "text/plain": [
       "array([ 2,  4,  6,  8, 10])"
      ]
     },
     "execution_count": 41,
     "metadata": {},
     "output_type": "execute_result"
    }
   ],
   "source": [
    "np_array*2"
   ]
  },
  {
   "cell_type": "markdown",
   "id": "c14d3938",
   "metadata": {},
   "source": [
    "### 2.6 Squaring"
   ]
  },
  {
   "cell_type": "code",
   "execution_count": 43,
   "id": "993effc9",
   "metadata": {},
   "outputs": [
    {
     "data": {
      "text/plain": [
       "array([ 1,  4,  9, 16, 25])"
      ]
     },
     "execution_count": 43,
     "metadata": {},
     "output_type": "execute_result"
    }
   ],
   "source": [
    "py_list = [1, 2, 3, 4, 5]\n",
    "np_array = np.array(py_list)\n",
    "\n",
    "np_array**2\n",
    "\n",
    "# py_list**2 wont work in this case "
   ]
  },
  {
   "cell_type": "markdown",
   "id": "e5f911f2",
   "metadata": {},
   "source": [
    "### 2.7 Asking questions"
   ]
  },
  {
   "cell_type": "code",
   "execution_count": 47,
   "id": "9500db48",
   "metadata": {},
   "outputs": [
    {
     "data": {
      "text/plain": [
       "array([False, False, False,  True,  True])"
      ]
     },
     "execution_count": 47,
     "metadata": {},
     "output_type": "execute_result"
    }
   ],
   "source": [
    "py_list = [1, 2, 3, 4, 5]\n",
    "np_array = np.array(py_list)         \n",
    "\n",
    "py_list == 3     # Works, but what IS the question?\n",
    "\n",
    "# py_list > 3  -- Won't work!\n",
    "\n",
    "np_array == 3  \n",
    "\n",
    "np_array > 3  \n"
   ]
  },
  {
   "cell_type": "markdown",
   "id": "bf0a38bc",
   "metadata": {},
   "source": [
    "### 2.8 Mathematics"
   ]
  },
  {
   "cell_type": "code",
   "execution_count": 55,
   "id": "20acf13b",
   "metadata": {},
   "outputs": [
    {
     "data": {
      "text/plain": [
       "1"
      ]
     },
     "execution_count": 55,
     "metadata": {},
     "output_type": "execute_result"
    }
   ],
   "source": [
    "py_list = [1, 2, 3, 4, 5]\n",
    "np_array = np.array(py_list)         \n",
    "\n",
    "sum(py_list)     # sum() is a base Python function\n",
    "\n",
    "max(py_list)     # max() is a base Python function\n",
    "\n",
    "min(py_list)     # min() is a base Python function\n",
    "\n",
    "#py_list.sum() - Won't work!\n",
    "\n",
    "np_array.sum()\n",
    "\n",
    "np_array.mean()\n",
    "\n",
    "np_array.max()\n",
    "\n",
    "np_array.min()"
   ]
  },
  {
   "cell_type": "markdown",
   "id": "62b1822a",
   "metadata": {},
   "source": [
    "## Exercise 1 :  Total recall?"
   ]
  },
  {
   "cell_type": "markdown",
   "id": "a0b0d9b7",
   "metadata": {},
   "source": [
    "lists are stored as py_ while arrays are stored as np_\n",
    "\n",
    "numpy needs be imported for arrays but not for lists\n",
    "\n",
    "dictionary stores data and allows easy retrieval of specific data stored in it"
   ]
  },
  {
   "cell_type": "markdown",
   "id": "6282839f",
   "metadata": {},
   "source": [
    "## Exercise 2 :  Index me"
   ]
  },
  {
   "cell_type": "code",
   "execution_count": 5,
   "id": "ca7d8185",
   "metadata": {},
   "outputs": [
    {
     "name": "stdout",
     "output_type": "stream",
     "text": [
      "a1\n",
      "c3\n",
      "e5\n",
      "g7\n",
      "i9\n"
     ]
    }
   ],
   "source": [
    "py_list = [\"a1\", \"b2\", \"c3\", \"d4\", \"e5\", \"f6\", \"g7\", \"h8\", \"i9\", \"j10\"]\n",
    "print(py_list[0])   # Prints 'a1'\n",
    "print(py_list[2])   # Prints 'c3'\n",
    "print(py_list[4])   # Prints 'e5'\n",
    "print(py_list[6])   # Prints 'g7'\n",
    "print(py_list[8])   # Prints 'i9'\n"
   ]
  },
  {
   "cell_type": "markdown",
   "id": "44faeebc",
   "metadata": {},
   "source": [
    "## Exercise 3 :  Capitalise Heros"
   ]
  },
  {
   "cell_type": "code",
   "execution_count": 18,
   "id": "89e9c7cd",
   "metadata": {},
   "outputs": [
    {
     "name": "stdout",
     "output_type": "stream",
     "text": [
      "{'natasha romanoff': 'BLACK WIDOW', 'tony stark': 'IRON MAN', 'stephen strange': 'DOCTOR STRANGE'}\n"
     ]
    }
   ],
   "source": [
    "superhero_info = {\"Natasha Romanoff\": \"Black Widow\",\n",
    "                  \"Tony Stark\": \"Iron Man\",\n",
    "                  \"Stephen Strange\": \"Doctor Strange\"}\n",
    "\n",
    "superhero = {k.lower():v.upper() for k,v in superhero_info.items()}\n",
    "    \n",
    "print (superhero)"
   ]
  },
  {
   "cell_type": "markdown",
   "id": "278d568c",
   "metadata": {},
   "source": [
    "## Exercise 4 :  How many ones"
   ]
  },
  {
   "cell_type": "code",
   "execution_count": 31,
   "id": "cbe19465",
   "metadata": {},
   "outputs": [
    {
     "data": {
      "text/plain": [
       "9"
      ]
     },
     "execution_count": 31,
     "metadata": {},
     "output_type": "execute_result"
    }
   ],
   "source": [
    "py_list = [45, 60, 1, 30, 96, 1, 96, 57, 16, 1,\n",
    "        99, 62, 86, 43, 42, 60, 59, 1, 1, 35,\n",
    "        83, 47, 34, 28, 68, 23, 22, 92, 1, 79,\n",
    "        1, 29, 94, 72, 46, 47, 1, 74, 32, 20,\n",
    "        8, 37, 35, 1, 89, 29, 86, 19, 43, 61]\n",
    "np_array = np.array(py_list)\n",
    "\n",
    "np_array == 1\n",
    "\n",
    "sum(np_array == 1)"
   ]
  }
 ],
 "metadata": {
  "kernelspec": {
   "display_name": "Python 3 (ipykernel)",
   "language": "python",
   "name": "python3"
  },
  "language_info": {
   "codemirror_mode": {
    "name": "ipython",
    "version": 3
   },
   "file_extension": ".py",
   "mimetype": "text/x-python",
   "name": "python",
   "nbconvert_exporter": "python",
   "pygments_lexer": "ipython3",
   "version": "3.10.8"
  },
  "toc": {
   "base_numbering": 1,
   "nav_menu": {},
   "number_sections": true,
   "sideBar": true,
   "skip_h1_title": false,
   "title_cell": "Table of Contents",
   "title_sidebar": "Contents",
   "toc_cell": false,
   "toc_position": {},
   "toc_section_display": true,
   "toc_window_display": false
  },
  "varInspector": {
   "cols": {
    "lenName": 16,
    "lenType": 16,
    "lenVar": 40
   },
   "kernels_config": {
    "python": {
     "delete_cmd_postfix": "",
     "delete_cmd_prefix": "del ",
     "library": "var_list.py",
     "varRefreshCmd": "print(var_dic_list())"
    },
    "r": {
     "delete_cmd_postfix": ") ",
     "delete_cmd_prefix": "rm(",
     "library": "var_list.r",
     "varRefreshCmd": "cat(var_dic_list()) "
    }
   },
   "types_to_exclude": [
    "module",
    "function",
    "builtin_function_or_method",
    "instance",
    "_Feature"
   ],
   "window_display": false
  },
  "vscode": {
   "interpreter": {
    "hash": "31f2aee4e71d21fbe5cf8b01ff0e069b9275f58929596ceb00d14d90e3e16cd6"
   }
  }
 },
 "nbformat": 4,
 "nbformat_minor": 5
}
